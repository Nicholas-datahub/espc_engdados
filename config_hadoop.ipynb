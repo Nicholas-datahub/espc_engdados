{
 "cells": [
  {
   "cell_type": "code",
   "execution_count": 1,
   "id": "56e3a756-8648-4a5b-a269-cdf98bf0e2c0",
   "metadata": {
    "execution": {
     "iopub.execute_input": "2025-02-22T15:17:59.256427Z",
     "iopub.status.busy": "2025-02-22T15:17:59.256427Z",
     "iopub.status.idle": "2025-02-22T15:17:59.393692Z",
     "shell.execute_reply": "2025-02-22T15:17:59.393692Z",
     "shell.execute_reply.started": "2025-02-22T15:17:59.256427Z"
    }
   },
   "outputs": [],
   "source": [
    "import os\n",
    "import requests\n",
    "import zipfile\n",
    "import shutil"
   ]
  },
  {
   "cell_type": "code",
   "execution_count": 2,
   "id": "d838eb16-3b0a-4dc3-9e3c-3c96cfdf1f40",
   "metadata": {
    "execution": {
     "iopub.execute_input": "2025-02-22T15:18:01.981775Z",
     "iopub.status.busy": "2025-02-22T15:18:01.980775Z",
     "iopub.status.idle": "2025-02-22T15:18:03.423389Z",
     "shell.execute_reply": "2025-02-22T15:18:03.422382Z",
     "shell.execute_reply.started": "2025-02-22T15:18:01.981775Z"
    }
   },
   "outputs": [
    {
     "name": "stdout",
     "output_type": "stream",
     "text": [
      "Baixando winutils.exe...\n",
      "winutils.exe baixado com sucesso em C:\\hadoop\\bin\\winutils.exe\n",
      "Configurando variáveis de ambiente...\n",
      "Configurando permissões para /tmp/hive...\n",
      "Configuração do Hadoop concluída!\n",
      "Hadoop configurado com sucesso!\n"
     ]
    }
   ],
   "source": [
    "# URL do repositório do winutils\n",
    "WINUTILS_URL = \"https://github.com/cdarlint/winutils/raw/7386986d5d8a079b5cd4464f4599766dd27e7d13/hadoop-3.2.0/bin/winutils.exe\"\n",
    "\n",
    "# Diretório de instalação do Hadoop\n",
    "HADOOP_DIR = \"C:\\\\hadoop\"\n",
    "HADOOP_BIN_DIR = os.path.join(HADOOP_DIR, \"bin\")\n",
    "\n",
    "# Cria o diretório do Hadoop (se não existir)\n",
    "os.makedirs(HADOOP_BIN_DIR, exist_ok=True)\n",
    "\n",
    "# Caminho local para salvar o winutils.exe\n",
    "WINUTILS_PATH = os.path.join(HADOOP_BIN_DIR, \"winutils.exe\")\n",
    "\n",
    "def download_winutils():\n",
    "    \"\"\"Baixa o winutils.exe do repositório.\"\"\"\n",
    "    print(\"Baixando winutils.exe...\")\n",
    "    response = requests.get(WINUTILS_URL, stream=True)\n",
    "    if response.status_code == 200:\n",
    "        with open(WINUTILS_PATH, \"wb\") as file:\n",
    "            for chunk in response.iter_content(chunk_size=8192):\n",
    "                file.write(chunk)\n",
    "        print(f\"winutils.exe baixado com sucesso em {WINUTILS_PATH}\")\n",
    "    else:\n",
    "        raise Exception(f\"Erro ao baixar winutils.exe. Código de status: {response.status_code}\")\n",
    "\n",
    "def configure_hadoop():\n",
    "    \"\"\"Configura as variáveis de ambiente para o Hadoop.\"\"\"\n",
    "    print(\"Configurando variáveis de ambiente...\")\n",
    "    \n",
    "    # Adiciona HADOOP_HOME ao ambiente\n",
    "    os.environ[\"HADOOP_HOME\"] = HADOOP_DIR\n",
    "    os.environ[\"PATH\"] += os.pathsep + HADOOP_BIN_DIR\n",
    "\n",
    "    # Configura permissões para o diretório temporário do Hadoop\n",
    "    print(\"Configurando permissões para /tmp/hive...\")\n",
    "    os.system(f\"{WINUTILS_PATH} chmod 777 /tmp/hive\")\n",
    "\n",
    "    print(\"Configuração do Hadoop concluída!\")\n",
    "\n",
    "if __name__ == \"__main__\":\n",
    "    try:\n",
    "        # Baixa o winutils.exe\n",
    "        download_winutils()\n",
    "\n",
    "        # Configura o Hadoop\n",
    "        configure_hadoop()\n",
    "\n",
    "        print(\"Hadoop configurado com sucesso!\")\n",
    "    except Exception as e:\n",
    "        print(f\"Erro durante a configuração: {e}\")"
   ]
  }
 ],
 "metadata": {
  "kernelspec": {
   "display_name": "Python 3 (ipykernel)",
   "language": "python",
   "name": "python3"
  },
  "language_info": {
   "codemirror_mode": {
    "name": "ipython",
    "version": 3
   },
   "file_extension": ".py",
   "mimetype": "text/x-python",
   "name": "python",
   "nbconvert_exporter": "python",
   "pygments_lexer": "ipython3",
   "version": "3.11.7"
  }
 },
 "nbformat": 4,
 "nbformat_minor": 5
}
